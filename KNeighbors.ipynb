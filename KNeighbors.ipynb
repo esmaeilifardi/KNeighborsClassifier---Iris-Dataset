{
  "nbformat": 4,
  "nbformat_minor": 0,
  "metadata": {
    "colab": {
      "provenance": [],
      "authorship_tag": "ABX9TyN/HneMD4QfUn4D5XDW4Z2G",
      "include_colab_link": true
    },
    "kernelspec": {
      "name": "python3",
      "display_name": "Python 3"
    },
    "language_info": {
      "name": "python"
    }
  },
  "cells": [
    {
      "cell_type": "markdown",
      "metadata": {
        "id": "view-in-github",
        "colab_type": "text"
      },
      "source": [
        "<a href=\"https://colab.research.google.com/github/esmaeilifardi/KNeighborsClassifier---Iris-Dataset/blob/main/KNeighbors.ipynb\" target=\"_parent\"><img src=\"https://colab.research.google.com/assets/colab-badge.svg\" alt=\"Open In Colab\"/></a>"
      ]
    },
    {
      "cell_type": "code",
      "execution_count": null,
      "metadata": {
        "id": "537MjfUUowML"
      },
      "outputs": [],
      "source": [
        "import numpy as np\n",
        "import pandas as pd\n",
        "import matplotlib.pyplot as plt\n",
        "from pandas.plotting import scatter_matrix\n",
        "import seaborn as sns\n",
        "from sklearn.preprocessing import StandardScaler\n",
        "from sklearn.model_selection import train_test_split\n",
        "from sklearn.model_selection import KFold\n",
        "from sklearn.model_selection import GridSearchCV\n",
        "from sklearn import metrics\n",
        "from sklearn.metrics import mean_squared_error, classification_report, accuracy_score\n",
        "from sklearn import datasets\n",
        "from sklearn.neighbors import KNeighborsClassifier"
      ]
    },
    {
      "cell_type": "code",
      "source": [
        "iris = datasets.load_iris()\n",
        "df = pd.DataFrame(iris.data, columns= iris.feature_names)"
      ],
      "metadata": {
        "id": "KiW1p6lppSmg"
      },
      "execution_count": null,
      "outputs": []
    },
    {
      "cell_type": "code",
      "source": [
        "df['target']= iris.target\n",
        "\n",
        "X = df.iloc[:, : -1]\n",
        "y = df.iloc[:, -1]"
      ],
      "metadata": {
        "id": "LaAS6zilpaIO"
      },
      "execution_count": null,
      "outputs": []
    },
    {
      "cell_type": "code",
      "source": [
        "X_train, X_test, y_train, y_test = train_test_split(X, y, test_size = 0.2, random_state=7) #shuffle=True(default) "
      ],
      "metadata": {
        "id": "TUnojBVOpc_S"
      },
      "execution_count": null,
      "outputs": []
    },
    {
      "cell_type": "code",
      "source": [
        "# roye dade az jense target aslan fit estefade nemikonim manande x_test hamintor baraye jense yha mananade y_train va y_test\n",
        "ss = StandardScaler()\n",
        "X_train_scaled = ss.fit_transform(X_train)\n",
        "X_test_scaled  = ss.transform(X_test)          #فیت نمی کنیم چون انگاری از قبل بهش تغلب رسانده ایم به عبارتی دیتا لیکیج اتفاق نیوفتد نفوذ دیتا"
      ],
      "metadata": {
        "id": "vgR--_APpl2p"
      },
      "execution_count": null,
      "outputs": []
    },
    {
      "cell_type": "code",
      "source": [
        "# kolliat mozo:\n",
        "\n",
        "knn =  KNeighborsClassifier(n_neighbors=1)\n",
        "knn.fit(X_train_scaled, y_train)\n",
        "y_pred = knn.predict(X_test_scaled)\n"
      ],
      "metadata": {
        "id": "9yVnIk2up-45"
      },
      "execution_count": null,
      "outputs": []
    },
    {
      "cell_type": "code",
      "source": [
        "#y_test = y_test.reshape((1, -1))"
      ],
      "metadata": {
        "id": "HiPPv6-Ju09e"
      },
      "execution_count": null,
      "outputs": []
    },
    {
      "cell_type": "code",
      "source": [
        "from sklearn.metrics import plot_confusion_matrix\n",
        "\n",
        "plot_confusion_matrix(knn, X_test_scaled, y_test)"
      ],
      "metadata": {
        "id": "hu4tnBLqrxus",
        "colab": {
          "base_uri": "https://localhost:8080/",
          "height": 351
        },
        "outputId": "dc5f9450-b729-4234-ce9a-b3c33a9c2d79"
      },
      "execution_count": null,
      "outputs": [
        {
          "output_type": "stream",
          "name": "stderr",
          "text": [
            "/usr/local/lib/python3.7/dist-packages/sklearn/utils/deprecation.py:87: FutureWarning: Function plot_confusion_matrix is deprecated; Function `plot_confusion_matrix` is deprecated in 1.0 and will be removed in 1.2. Use one of the class methods: ConfusionMatrixDisplay.from_predictions or ConfusionMatrixDisplay.from_estimator.\n",
            "  warnings.warn(msg, category=FutureWarning)\n"
          ]
        },
        {
          "output_type": "execute_result",
          "data": {
            "text/plain": [
              "<sklearn.metrics._plot.confusion_matrix.ConfusionMatrixDisplay at 0x7f139fd13b10>"
            ]
          },
          "metadata": {},
          "execution_count": 9
        },
        {
          "output_type": "display_data",
          "data": {
            "text/plain": [
              "<Figure size 432x288 with 2 Axes>"
            ],
            "image/png": "[encoded data removed]"
          },
          "metadata": {
            "needs_background": "light"
          }
        }
      ]
    },
    {
      "cell_type": "code",
      "source": [
        "print( classification_report(y_pred, y_test) ) #print nazanim moratab nemishavad jadvale khoroji"
      ],
      "metadata": {
        "id": "d7P2cKbVs8dg",
        "colab": {
          "base_uri": "https://localhost:8080/"
        },
        "outputId": "8c0501b5-ec17-4d2d-ef8e-5f25c3d7c38c"
      },
      "execution_count": null,
      "outputs": [
        {
          "output_type": "stream",
          "name": "stdout",
          "text": [
            "              precision    recall  f1-score   support\n",
            "\n",
            "           0       1.00      1.00      1.00         7\n",
            "           1       0.92      0.85      0.88        13\n",
            "           2       0.82      0.90      0.86        10\n",
            "\n",
            "    accuracy                           0.90        30\n",
            "   macro avg       0.91      0.92      0.91        30\n",
            "weighted avg       0.90      0.90      0.90        30\n",
            "\n"
          ]
        }
      ]
    },
    {
      "cell_type": "code",
      "source": [
        "# K روش های تعیین پارامتر:"
      ],
      "metadata": {
        "id": "OuSdw7aAxhww"
      },
      "execution_count": null,
      "outputs": []
    },
    {
      "cell_type": "code",
      "source": [
        "# Elbow روش:"
      ],
      "metadata": {
        "id": "XmgtKMjcxraa"
      },
      "execution_count": null,
      "outputs": []
    },
    {
      "cell_type": "code",
      "source": [
        "error_ratio = []\n",
        "\n",
        "for k in range(1, 30):\n",
        "  knn =  KNeighborsClassifier(n_neighbors=k)\n",
        "  knn.fit(X_train_scaled, y_train)\n",
        "  y_pred = knn.predict(X_test_scaled)\n",
        "  errors = 1- accuracy_score(y_pred, y_test)\n",
        "  error_ratio.append(errors)\n"
      ],
      "metadata": {
        "id": "zdxOcfWixvoO"
      },
      "execution_count": null,
      "outputs": []
    },
    {
      "cell_type": "code",
      "source": [
        "# shortcut to Elbow\n",
        "# pd.DataFrame(final_model.cv_results_)['mean_test_score'].plot()\n",
        "     \n",
        "plt.figure(figsize=(7, 7))\n",
        "plt.plot( range(1,30), error_ratio )\n",
        "plt.xlabel('K')\n",
        "plt.ylabel('error ratio')"
      ],
      "metadata": {
        "colab": {
          "base_uri": "https://localhost:8080/",
          "height": 459
        },
        "id": "XwHdwTAt4PAt",
        "outputId": "e4c7c928-4528-4a7a-bab9-bcd12c38d514"
      },
      "execution_count": null,
      "outputs": [
        {
          "output_type": "execute_result",
          "data": {
            "text/plain": [
              "Text(0, 0.5, 'error ratio')"
            ]
          },
          "metadata": {},
          "execution_count": 12
        },
        {
          "output_type": "display_data",
          "data": {
            "text/plain": [
              "<Figure size 504x504 with 1 Axes>"
            ],
            "image/png": "[encoded data removed]"
          },
          "metadata": {
            "needs_background": "light"
          }
        }
      ]
    },
    {
      "cell_type": "code",
      "source": [
        "# GridsearchCV روش:"
      ],
      "metadata": {
        "id": "8LqghemJ4zZ8"
      },
      "execution_count": null,
      "outputs": []
    },
    {
      "cell_type": "code",
      "source": [
        "operation = [ ('ss', ss), ('knn', knn) ]\n",
        "\n",
        "from sklearn.pipeline import Pipeline   \n",
        "\n",
        "pipe = Pipeline(operation)            # steps: list of tuple\n",
        "\n",
        "from sklearn.model_selection import GridSearchCV\n",
        "k_values = list( range(1, 30) )\n",
        "param_grid = { 'knn__n_neighbors': k_values }           # dar pipe bayad ba in format nevesht: model__parameter        # dict or list of dictionaries\n",
        "\n",
        "final_model = GridSearchCV(pipe, param_grid, cv=5, scoring= 'accuracy')\n",
        "final_model.fit(X_train_scaled, y_train)\n",
        "y_pred = final_model.predict(X_test_scaled)\n",
        "\n",
        "final_model.best_estimator_.get_params\n",
        "\n",
        "# knn.get_params()\n",
        "# knn.get_params().keys()"
      ],
      "metadata": {
        "colab": {
          "base_uri": "https://localhost:8080/"
        },
        "id": "_amBrfU445Bo",
        "outputId": "159e7a68-67a2-4697-d496-6b67d8229700"
      },
      "execution_count": null,
      "outputs": [
        {
          "output_type": "execute_result",
          "data": {
            "text/plain": [
              "<bound method Pipeline.get_params of Pipeline(steps=[('ss', StandardScaler()),\n",
              "                ('knn', KNeighborsClassifier(n_neighbors=7))])>"
            ]
          },
          "metadata": {},
          "execution_count": 15
        }
      ]
    },
    {
      "cell_type": "code",
      "source": [
        "print( classification_report(y_pred, y_test) ) "
      ],
      "metadata": {
        "colab": {
          "base_uri": "https://localhost:8080/"
        },
        "id": "spxVZ7gvxeaz",
        "outputId": "91f6d708-5861-4842-aaf4-ee3e0de69543"
      },
      "execution_count": null,
      "outputs": [
        {
          "output_type": "stream",
          "name": "stdout",
          "text": [
            "              precision    recall  f1-score   support\n",
            "\n",
            "           0       1.00      1.00      1.00         7\n",
            "           1       1.00      0.86      0.92        14\n",
            "           2       0.82      1.00      0.90         9\n",
            "\n",
            "    accuracy                           0.93        30\n",
            "   macro avg       0.94      0.95      0.94        30\n",
            "weighted avg       0.95      0.93      0.93        30\n",
            "\n"
          ]
        }
      ]
    },
    {
      "cell_type": "code",
      "source": [
        "# test gereftan az model:\n",
        "\n",
        "knn =  KNeighborsClassifier(n_neighbors= 7)\n",
        "knn.fit(X_train_scaled, y_train)\n",
        "y_pred = knn.predict(y_test)\n"
      ],
      "metadata": {
        "id": "NnyGQmRGLxMk"
      },
      "execution_count": null,
      "outputs": []
    },
    {
      "cell_type": "code",
      "source": [
        "pd.DataFrame(final_model.cv_results_)['mean_test_score'].plot()     # shortcut Elbow"
      ],
      "metadata": {
        "colab": {
          "base_uri": "https://localhost:8080/",
          "height": 282
        },
        "id": "x4pPfaV4xTSQ",
        "outputId": "8a2b0bc3-d427-4db3-fe44-7ee654f5168d"
      },
      "execution_count": null,
      "outputs": [
        {
          "output_type": "execute_result",
          "data": {
            "text/plain": [
              "<matplotlib.axes._subplots.AxesSubplot at 0x7f138c0b7a10>"
            ]
          },
          "metadata": {},
          "execution_count": 17
        },
        {
          "output_type": "display_data",
          "data": {
            "text/plain": [
              "<Figure size 432x288 with 1 Axes>"
            ],
            "image/png": "[encoded data removed]"
          },
          "metadata": {
            "needs_background": "light"
          }
        }
      ]
    },
    {
      "cell_type": "code",
      "source": [],
      "metadata": {
        "id": "YoKExT1expN4"
      },
      "execution_count": null,
      "outputs": []
    }
  ]
}